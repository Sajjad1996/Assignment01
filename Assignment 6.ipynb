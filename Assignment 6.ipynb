{
 "cells": [
  {
   "cell_type": "markdown",
   "metadata": {},
   "source": [
    "# Q1 : Define Object Oriented Programming Language?"
   ]
  },
  {
   "cell_type": "markdown",
   "metadata": {},
   "source": [
    "### Ans : Object-Oriented Programming is a software programming model constructed around object. This model compartmentalizes data into object content into behavior through the declaration of classes."
   ]
  },
  {
   "cell_type": "markdown",
   "metadata": {},
   "source": [
    "### There are four pillar of object oriented programming:"
   ]
  },
  {
   "cell_type": "markdown",
   "metadata": {},
   "source": [
    "### Abstraction."
   ]
  },
  {
   "cell_type": "markdown",
   "metadata": {},
   "source": [
    "### Encapsulation."
   ]
  },
  {
   "cell_type": "markdown",
   "metadata": {},
   "source": [
    "### Enheritance."
   ]
  },
  {
   "cell_type": "markdown",
   "metadata": {},
   "source": [
    "### Polymorphism."
   ]
  },
  {
   "cell_type": "markdown",
   "metadata": {},
   "source": [
    "# Q2 : List down the benefits of OOP?"
   ]
  },
  {
   "cell_type": "markdown",
   "metadata": {},
   "source": [
    "### Ans : There are some benefits of OOP."
   ]
  },
  {
   "cell_type": "markdown",
   "metadata": {},
   "source": [
    "#### 1) Modularity for easier troubleshooting."
   ]
  },
  {
   "cell_type": "markdown",
   "metadata": {},
   "source": [
    "#### 2) Reuses of code through inheritance."
   ]
  },
  {
   "cell_type": "markdown",
   "metadata": {},
   "source": [
    "#### 3) Flexibility through polymorphims."
   ]
  },
  {
   "cell_type": "markdown",
   "metadata": {},
   "source": [
    "#### 4) Effective problem solving."
   ]
  },
  {
   "cell_type": "markdown",
   "metadata": {},
   "source": [
    "# Q3 : Differentiate between function and method?"
   ]
  },
  {
   "cell_type": "markdown",
   "metadata": {},
   "source": [
    "## Ans :"
   ]
  },
  {
   "cell_type": "markdown",
   "metadata": {},
   "source": [
    "## FUNCTION:"
   ]
  },
  {
   "cell_type": "markdown",
   "metadata": {},
   "source": [
    "### A function is a piece of code that is called by name. it can be passed data to operate on(i.e. the parameters) and can optionally return data (the return value). All data that is passed to a function is exclictly passed."
   ]
  },
  {
   "cell_type": "markdown",
   "metadata": {},
   "source": [
    "## METHOD:"
   ]
  },
  {
   "cell_type": "markdown",
   "metadata": {},
   "source": [
    "### A method is a piece of code that is called by a name that is associated with an object. in most respects it is identical to a finction except for two key differences:"
   ]
  },
  {
   "cell_type": "markdown",
   "metadata": {},
   "source": [
    "### -A method is implicity passed the object on which it was called."
   ]
  },
  {
   "cell_type": "markdown",
   "metadata": {},
   "source": [
    "### -A method is able to operate on data that is contained within the class(remembering that an object is an instance of a class - the class is the definition, the object is an instance of that data)."
   ]
  },
  {
   "cell_type": "markdown",
   "metadata": {},
   "source": [
    "# Q4 : Define the follwing terms:"
   ]
  },
  {
   "cell_type": "markdown",
   "metadata": {},
   "source": [
    "### 1. Class "
   ]
  },
  {
   "cell_type": "markdown",
   "metadata": {},
   "source": [
    "### 2. Object"
   ]
  },
  {
   "cell_type": "markdown",
   "metadata": {},
   "source": [
    "### 3. Attribute"
   ]
  },
  {
   "cell_type": "markdown",
   "metadata": {},
   "source": [
    "### 4. Behavior"
   ]
  },
  {
   "cell_type": "markdown",
   "metadata": {},
   "source": [
    "# Ans:"
   ]
  },
  {
   "cell_type": "markdown",
   "metadata": {},
   "source": [
    "## 1) CLASS:"
   ]
  },
  {
   "cell_type": "markdown",
   "metadata": {},
   "source": [
    "### A class is a blueprint for creating providing initail values for state (member variables or attributes). and implementations of behavior."
   ]
  },
  {
   "cell_type": "markdown",
   "metadata": {},
   "source": [
    "## 2) OBJECT:"
   ]
  },
  {
   "cell_type": "markdown",
   "metadata": {},
   "source": [
    "### An object is nothing but a self-contained component which consists of method and properties to make a particular type of data useful. Object dertermines the behavior of class. When you send a message to an object, you are asking the object to invoke or execute one of its methods."
   ]
  },
  {
   "cell_type": "markdown",
   "metadata": {},
   "source": [
    "## 3) ATTRIBUTE:"
   ]
  },
  {
   "cell_type": "markdown",
   "metadata": {},
   "source": [
    "### An attribute is a specification that defines a property of an object, element, or file. it may also refer to or set the specific value for a given instance of such. For clarity, attributes should more correctly be considered metadata."
   ]
  },
  {
   "cell_type": "markdown",
   "metadata": {},
   "source": [
    "## 4) BEHAVIOR:"
   ]
  },
  {
   "cell_type": "markdown",
   "metadata": {},
   "source": [
    "### A class's behavior determines how an instance of that class operates for example, how it will react if asked to do something by another class or object or if its internal state changes.Behavior is the only way objects can do anything to themselves or have anything done to them."
   ]
  },
  {
   "cell_type": "markdown",
   "metadata": {},
   "source": [
    "# Q5 : Write a code in python in which create a class named it car which have 5 attributes such like (model,color and name etc.) and 3 methods. And create 5 object instance from that class."
   ]
  },
  {
   "cell_type": "code",
   "execution_count": 5,
   "metadata": {},
   "outputs": [
    {
     "name": "stdout",
     "output_type": "stream",
     "text": [
      "Car Name is  Honda  model is  Civic  color is  Black  year of Making is  2017  and  No  Bullet Proof\n",
      "Honda\n",
      "No\n",
      "Car Name is  Audi  model is  A8  color is  Silver  year of Making is  2019  and  Yes  Bullet Proof\n",
      "Audi\n",
      "Yes\n",
      "Car Name is  Honda  model is  Civic  color is  Red  year of Making is  2014  and  No  Bullet Proof\n",
      "Honda\n",
      "No\n",
      "Car Name is  Audi  model is  A4  color is  Black  year of Making is  2017  and  Yes  Bullet Proof\n",
      "Audi\n",
      "Yes\n",
      "Car Name is  Honda  model is  Civic  color is  Blue  year of Making is  2019  and  Yes  Bullet Proof\n",
      "Honda\n",
      "Yes\n"
     ]
    }
   ],
   "source": [
    "class Car:\n",
    "    def __init__(self, name, model,color,yearOfMaking,bulletProof):\n",
    "        self.name = name\n",
    "        self.model = model\n",
    "        self.color = color\n",
    "        self.yearOfMaking = yearOfMaking\n",
    "        self.bulletProof = bulletProof\n",
    "    \n",
    "    def getName(self):\n",
    "        print(self.name)\n",
    "    \n",
    "    def isBulletProof(self):\n",
    "        print(self.bulletProof)\n",
    "    \n",
    "    def getFullInfo(self):\n",
    "        print(\"Car Name is \",self.name,\" model is \",self.model,\" color is \",self.color,\" year of Making is \",self.yearOfMaking,\" and \",self.bulletProof,\" Bullet Proof\")\n",
    "        \n",
    "        \n",
    "car1 = Car(\"Honda\",\"Civic\",\"Black\",2017,\"No\")\n",
    "car1.getFullInfo()\n",
    "car1.getName()\n",
    "car1.isBulletProof()\n",
    "\n",
    "\n",
    "car2 = Car(\"Audi\",\"A8\",\"Silver\",2019,\"Yes\")\n",
    "car2.getFullInfo()\n",
    "car2.getName()\n",
    "car2.isBulletProof()\n",
    "\n",
    "\n",
    "car3 = Car(\"Honda\",\"Civic\",\"Red\",2014,\"No\")\n",
    "car3.getFullInfo()\n",
    "car3.getName()\n",
    "car3.isBulletProof()\n",
    "\n",
    "\n",
    "car4 = Car(\"Audi\",\"A4\",\"Black\",2017,\"Yes\")\n",
    "car4.getFullInfo()\n",
    "car4.getName()\n",
    "car4.isBulletProof()\n",
    "\n",
    "\n",
    "car5 = Car(\"Honda\",\"Civic\",\"Blue\",2019,\"Yes\")\n",
    "car5.getFullInfo()\n",
    "car5.getName()\n",
    "car5.isBulletProof()"
   ]
  },
  {
   "cell_type": "code",
   "execution_count": null,
   "metadata": {},
   "outputs": [],
   "source": []
  }
 ],
 "metadata": {
  "kernelspec": {
   "display_name": "Python 3",
   "language": "python",
   "name": "python3"
  },
  "language_info": {
   "codemirror_mode": {
    "name": "ipython",
    "version": 3
   },
   "file_extension": ".py",
   "mimetype": "text/x-python",
   "name": "python",
   "nbconvert_exporter": "python",
   "pygments_lexer": "ipython3",
   "version": "3.7.4"
  }
 },
 "nbformat": 4,
 "nbformat_minor": 2
}

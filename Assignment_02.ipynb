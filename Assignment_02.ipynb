{
 "cells": [
  {
   "cell_type": "markdown",
   "metadata": {},
   "source": [
    "# Q 01"
   ]
  },
  {
   "cell_type": "code",
   "execution_count": 1,
   "metadata": {},
   "outputs": [
    {
     "name": "stdout",
     "output_type": "stream",
     "text": [
      "enter the number of math80\n",
      "enter the number of physics80\n",
      "enter the number of english80\n",
      "enter the number of biology80\n",
      "enter the number of chemistry80\n",
      "A+\n"
     ]
    }
   ],
   "source": [
    "math = int(input(\"enter the number of math\"))\n",
    "physics = int(input(\"enter the number of physics\"))\n",
    "english = int(input(\"enter the number of english\"))\n",
    "biology = int(input(\"enter the number of biology\"))\n",
    "chemistry = int(input(\"enter the number of chemistry\"))\n",
    "per = (math+physics+english+biology+chemistry)/5\n",
    "\n",
    "if (per >=80 and per <=100):\n",
    "    print (\"A+\")\n",
    "elif(per >=70 and per <80):\n",
    "    print (\"A\")\n",
    "elif(per >=60 and per <70):\n",
    "    print (\"B\")\n",
    "elif(per >=50 and per <60):\n",
    "    print (\"C\")\n",
    "else:\n",
    "    print (\"fail\")"
   ]
  },
  {
   "cell_type": "markdown",
   "metadata": {},
   "source": [
    "# Q2 "
   ]
  },
  {
   "cell_type": "code",
   "execution_count": 2,
   "metadata": {},
   "outputs": [
    {
     "name": "stdout",
     "output_type": "stream",
     "text": [
      "enter any number5\n",
      "odd\n"
     ]
    }
   ],
   "source": [
    "\n",
    "num = int(input(\"enter any number\"))\n",
    "\n",
    "if num %2 ==0:\n",
    "    print(\"even\")\n",
    "else:\n",
    "    print(\"odd\")\n"
   ]
  },
  {
   "cell_type": "markdown",
   "metadata": {},
   "source": [
    "# Q3"
   ]
  },
  {
   "cell_type": "code",
   "execution_count": 3,
   "metadata": {},
   "outputs": [
    {
     "name": "stdout",
     "output_type": "stream",
     "text": [
      "10\n"
     ]
    }
   ],
   "source": [
    "list_numbers = [1,2,3,4,5,6,7,8,9,10]\n",
    "print(len(list_numbers))"
   ]
  },
  {
   "cell_type": "markdown",
   "metadata": {},
   "source": [
    "# Q4"
   ]
  },
  {
   "cell_type": "code",
   "execution_count": 4,
   "metadata": {},
   "outputs": [
    {
     "name": "stdout",
     "output_type": "stream",
     "text": [
      "Sum of all values in list is 55 \n"
     ]
    }
   ],
   "source": [
    "list_numbers = [1,2,3,4,5,6,7,8,9,10]\n",
    "sum = 0\n",
    "for x in range(len(list_numbers)):\n",
    "    sum = sum + list_numbers[x]\n",
    "\n",
    "print(\"Sum of all values in list is {} \".format(sum))"
   ]
  },
  {
   "cell_type": "markdown",
   "metadata": {},
   "source": [
    "# Q5"
   ]
  },
  {
   "cell_type": "code",
   "execution_count": 5,
   "metadata": {},
   "outputs": [
    {
     "name": "stdout",
     "output_type": "stream",
     "text": [
      "Largest number in list is : 10 \n"
     ]
    }
   ],
   "source": [
    "list_numbers = [1,2,3,4,5,6,7,8,9,10]\n",
    "\n",
    "largest_number = max(list_numbers)\n",
    "print(\"Largest number in list is : {} \".format(largest_number))"
   ]
  },
  {
   "cell_type": "markdown",
   "metadata": {},
   "source": [
    "# Q6"
   ]
  },
  {
   "cell_type": "code",
   "execution_count": 9,
   "metadata": {},
   "outputs": [
    {
     "name": "stdout",
     "output_type": "stream",
     "text": [
      "1\n",
      "1\n",
      "2\n",
      "3\n"
     ]
    }
   ],
   "source": [
    "a = [1, 1, 2, 3, 5, 8, 13, 21, 34, 55, 89]\n",
    "for x in range(len(a)):\n",
    "    if(a[x] < 5):\n",
    "        print(a[x])"
   ]
  },
  {
   "cell_type": "code",
   "execution_count": null,
   "metadata": {},
   "outputs": [],
   "source": []
  }
 ],
 "metadata": {
  "kernelspec": {
   "display_name": "Python 3",
   "language": "python",
   "name": "python3"
  },
  "language_info": {
   "codemirror_mode": {
    "name": "ipython",
    "version": 3
   },
   "file_extension": ".py",
   "mimetype": "text/x-python",
   "name": "python",
   "nbconvert_exporter": "python",
   "pygments_lexer": "ipython3",
   "version": "3.7.1"
  }
 },
 "nbformat": 4,
 "nbformat_minor": 2
}
